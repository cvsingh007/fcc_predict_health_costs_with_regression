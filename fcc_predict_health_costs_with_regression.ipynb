{
  "cells": [
    {
      "cell_type": "markdown",
      "source": [
        "**Instructions**\n",
        "\n",
        "In this challenge, you will predict healthcare costs using a regression algorithm.\n",
        "\n",
        "You are given a dataset that contains information about different people including their healthcare costs. Use the data to predict healthcare costs based on new data.\n",
        "\n",
        "The first two cells of this notebook import libraries and the data.\n",
        "\n",
        "Make sure to convert categorical data to numbers. Use 80% of the data as the `train_dataset` and 20% of the data as the `test_dataset`.\n",
        "\n",
        "`pop` off the \"expenses\" column from these datasets to create new datasets called `train_labels` and `test_labels`. Use these labels when training your model.\n",
        "\n",
        "Create a model and train it with the `train_dataset`. Run the final cell in this notebook to check your model. The final cell will use the unseen `test_dataset` to check how well the model generalizes.\n",
        "\n",
        "To pass the challenge, `model.evaluate` must return a Mean Absolute Error of under 3500. This means it predicts health care costs correctly within $3500.\n",
        "\n",
        "The final cell will also predict expenses using the `test_dataset` and graph the results."
      ],
      "metadata": {
        "id": "MrrEX2Ak1wBJ"
      }
    },
    {
      "cell_type": "markdown",
      "source": [
        "# **Load libraries**"
      ],
      "metadata": {
        "id": "rTpM58YS2H6I"
      }
    },
    {
      "cell_type": "code",
      "execution_count": null,
      "metadata": {
        "id": "1rRo8oNqZ-Rj"
      },
      "outputs": [],
      "source": [
        "# Import libraries. You may or may not use all of these.\n",
        "!pip install -q git+https://github.com/tensorflow/docs\n",
        "import matplotlib.pyplot as plt\n",
        "import numpy as np\n",
        "import pandas as pd\n",
        "import seaborn as sns\n",
        "\n",
        "try:\n",
        "  # %tensorflow_version only exists in Colab.\n",
        "  %tensorflow_version 2.x\n",
        "except Exception:\n",
        "  pass\n",
        "import tensorflow as tf\n",
        "\n",
        "from tensorflow import keras\n",
        "from tensorflow.keras import layers\n",
        "\n",
        "import tensorflow_docs as tfdocs\n",
        "import tensorflow_docs.plots\n",
        "import tensorflow_docs.modeling"
      ]
    },
    {
      "cell_type": "markdown",
      "source": [
        "# **Load dataset**"
      ],
      "metadata": {
        "id": "xCIhrWBg2OJn"
      }
    },
    {
      "cell_type": "code",
      "execution_count": null,
      "metadata": {
        "id": "CiX2FI4gZtTt"
      },
      "outputs": [],
      "source": [
        "# Import data\n",
        "!wget https://cdn.freecodecamp.org/project-data/health-costs/insurance.csv"
      ]
    },
    {
      "cell_type": "code",
      "execution_count": null,
      "metadata": {
        "id": "LcopvQh3X-kX"
      },
      "outputs": [],
      "source": [
        "df = pd.read_csv(\"insurance.csv\")\n",
        "df.tail()"
      ]
    },
    {
      "cell_type": "markdown",
      "source": [
        "# **Check missing values**"
      ],
      "metadata": {
        "id": "AUWz_Nvu2bAG"
      }
    },
    {
      "cell_type": "code",
      "source": [
        "df.isnull().sum()"
      ],
      "metadata": {
        "id": "E8FY3XyV2WGB"
      },
      "execution_count": null,
      "outputs": []
    },
    {
      "cell_type": "markdown",
      "source": [
        "# **Handle categorical values**"
      ],
      "metadata": {
        "id": "7VOAhw-f2fQJ"
      }
    },
    {
      "cell_type": "code",
      "source": [
        "df.dtypes"
      ],
      "metadata": {
        "id": "Ze1fhRqS2WDX"
      },
      "execution_count": null,
      "outputs": []
    },
    {
      "cell_type": "markdown",
      "source": [
        "**Region**"
      ],
      "metadata": {
        "id": "QXhO9z_y2jBS"
      }
    },
    {
      "cell_type": "code",
      "source": [
        "df.region.value_counts()"
      ],
      "metadata": {
        "id": "9ZqwEBjX2WAC"
      },
      "execution_count": null,
      "outputs": []
    },
    {
      "cell_type": "code",
      "source": [
        "df = df.join(pd.get_dummies(df.region, prefix='region')).drop('region', axis=1)\n",
        "df.head()"
      ],
      "metadata": {
        "id": "luy1XAwy2V9j"
      },
      "execution_count": null,
      "outputs": []
    },
    {
      "cell_type": "markdown",
      "source": [
        "**Sex**"
      ],
      "metadata": {
        "id": "eAPWtu-v2qKK"
      }
    },
    {
      "cell_type": "code",
      "source": [
        "df.sex.value_counts()"
      ],
      "metadata": {
        "id": "BhycjEe-2V7E"
      },
      "execution_count": null,
      "outputs": []
    },
    {
      "cell_type": "code",
      "source": [
        "labels = {}\n",
        "\n",
        "values        = df.sex.astype('category')\n",
        "labels['sex'] = values.cat.categories\n",
        "df['sex']     = values.cat.codes\n",
        "\n",
        "df.head()"
      ],
      "metadata": {
        "id": "b9JkIjDe2rrv"
      },
      "execution_count": null,
      "outputs": []
    },
    {
      "cell_type": "markdown",
      "source": [
        "**Smoker**"
      ],
      "metadata": {
        "id": "lkN-WJcp2ykc"
      }
    },
    {
      "cell_type": "code",
      "source": [
        "df.smoker.value_counts()"
      ],
      "metadata": {
        "id": "N53IXhhx2rpg"
      },
      "execution_count": null,
      "outputs": []
    },
    {
      "cell_type": "code",
      "source": [
        "values           = df.smoker.astype('category')\n",
        "labels['smoker'] = values.cat.categories\n",
        "df['smoker']     = values.cat.codes\n",
        "\n",
        "df.head()"
      ],
      "metadata": {
        "id": "bPTrMsP52rlu"
      },
      "execution_count": null,
      "outputs": []
    },
    {
      "cell_type": "code",
      "source": [
        "labels"
      ],
      "metadata": {
        "id": "hNff4_7y2riQ"
      },
      "execution_count": null,
      "outputs": []
    },
    {
      "cell_type": "markdown",
      "source": [
        "# **Explore data**"
      ],
      "metadata": {
        "id": "If5e4n7W273x"
      }
    },
    {
      "cell_type": "code",
      "source": [
        "sns.heatmap(df.corr(), annot=True, fmt='.2f')"
      ],
      "metadata": {
        "id": "iuWa9IWC2rgC"
      },
      "execution_count": null,
      "outputs": []
    },
    {
      "cell_type": "code",
      "source": [
        "df.drop(['region_northeast', 'region_northwest', 'region_southeast', 'region_southwest'], axis=1, inplace=True)"
      ],
      "metadata": {
        "id": "F6WIoWhp2rdw"
      },
      "execution_count": null,
      "outputs": []
    },
    {
      "cell_type": "code",
      "source": [
        "df.drop(['sex', 'children'], axis=1, inplace=True)"
      ],
      "metadata": {
        "id": "rR-I89Jh2rbm"
      },
      "execution_count": null,
      "outputs": []
    },
    {
      "cell_type": "code",
      "source": [
        "sns.pairplot(df)"
      ],
      "metadata": {
        "id": "wmGF9MQo2rZP"
      },
      "execution_count": null,
      "outputs": []
    },
    {
      "cell_type": "markdown",
      "source": [
        "# **Split data**"
      ],
      "metadata": {
        "id": "s3aQx5R83sE9"
      }
    },
    {
      "cell_type": "code",
      "source": [
        "# shuffle the rows, just in case\n",
        "df = df.sample(frac=1) "
      ],
      "metadata": {
        "id": "Cjbk3z8N2V4n"
      },
      "execution_count": null,
      "outputs": []
    },
    {
      "cell_type": "code",
      "source": [
        "size          = int(len(df) * .2)\n",
        "train_dataset = df[:-size]\n",
        "test_dataset  = df[-size:]\n",
        "\n",
        "print(len(df), len(train_dataset), len(test_dataset))"
      ],
      "metadata": {
        "id": "XW-cOUO43u_C"
      },
      "execution_count": null,
      "outputs": []
    },
    {
      "cell_type": "code",
      "source": [
        "train_labels  = train_dataset['expenses']\n",
        "train_dataset = train_dataset.drop('expenses', axis=1)"
      ],
      "metadata": {
        "id": "Ph5sdn5N3u8e"
      },
      "execution_count": null,
      "outputs": []
    },
    {
      "cell_type": "code",
      "source": [
        "test_labels   = test_dataset['expenses']\n",
        "test_dataset  = test_dataset.drop('expenses', axis=1)"
      ],
      "metadata": {
        "id": "Tb_eIT8N3u6G"
      },
      "execution_count": null,
      "outputs": []
    },
    {
      "cell_type": "markdown",
      "source": [
        "# **Build model**"
      ],
      "metadata": {
        "id": "_0TJuB0333fs"
      }
    },
    {
      "cell_type": "code",
      "source": [
        "model = tf.keras.models.Sequential([\n",
        "    tf.keras.layers.Input(shape=(len(train_dataset.keys()),)),\n",
        "    tf.keras.layers.BatchNormalization(),\n",
        "    tf.keras.layers.Dense(64, activation='relu'),\n",
        "    tf.keras.layers.Dense(64, activation='relu'),\n",
        "    tf.keras.layers.Dense(1)\n",
        "])\n",
        "model.compile(\n",
        "    optimizer= tf.keras.optimizers.RMSprop(0.05),\n",
        "    loss='mse',\n",
        "    metrics=['mae', 'mse']\n",
        ")\n",
        "model.summary()"
      ],
      "metadata": {
        "id": "elfUcD4l3u3y"
      },
      "execution_count": null,
      "outputs": []
    },
    {
      "cell_type": "code",
      "source": [
        "# taken from tfdocs.modeling.EpochDots\n",
        "class EpochDots(keras.callbacks.Callback):\n",
        "  def on_epoch_end(self, epoch, logs):\n",
        "    if epoch % 100 == 0:\n",
        "      print()\n",
        "      print('Epoch: {:d}, '.format(epoch), end='')\n",
        "      for name, value in sorted(logs.items()):\n",
        "        print('{}:{:0.4f}'.format(name, value), end=', ')\n",
        "      print()\n",
        "\n",
        "    print('.', end='')"
      ],
      "metadata": {
        "id": "QjtKggno3u1N"
      },
      "execution_count": null,
      "outputs": []
    },
    {
      "cell_type": "code",
      "source": [
        "r = model.fit(train_dataset, train_labels, epochs=500,\n",
        "              verbose=0, callbacks=[EpochDots()])"
      ],
      "metadata": {
        "id": "KO8Ue3uq3uyp"
      },
      "execution_count": null,
      "outputs": []
    },
    {
      "cell_type": "code",
      "source": [
        "res = model.evaluate(test_dataset, test_labels, verbose=2)\n",
        "print(res)"
      ],
      "metadata": {
        "id": "jvvdoKEX3_QJ"
      },
      "execution_count": null,
      "outputs": []
    },
    {
      "cell_type": "markdown",
      "source": [
        "# **Challenge**"
      ],
      "metadata": {
        "id": "wqTtZFqh4DwZ"
      }
    },
    {
      "cell_type": "code",
      "source": [
        "# RUN THIS CELL TO TEST YOUR MODEL. DO NOT MODIFY CONTENTS.\n",
        "# Test model by checking how well the model generalizes using the test set.\n",
        "loss, mae, mse = model.evaluate(test_dataset, test_labels, verbose=2)\n",
        "\n",
        "print(\"Testing set Mean Abs Error: {:5.2f} expenses\".format(mae))\n",
        "\n",
        "if mae < 3500:\n",
        "  print(\"You passed the challenge. Great job!\")\n",
        "else:\n",
        "  print(\"The Mean Abs Error must be less than 3500. Keep trying.\")\n",
        "\n",
        "# Plot predictions.\n",
        "test_predictions = model.predict(test_dataset).flatten()\n",
        "\n",
        "a = plt.axes(aspect='equal')\n",
        "plt.scatter(test_labels, test_predictions)\n",
        "plt.xlabel('True values (expenses)')\n",
        "plt.ylabel('Predictions (expenses)')\n",
        "lims = [0, 50000]\n",
        "plt.xlim(lims)\n",
        "plt.ylim(lims)\n",
        "_ = plt.plot(lims,lims)"
      ],
      "metadata": {
        "id": "B5usPybE3_Nt"
      },
      "execution_count": null,
      "outputs": []
    }
  ],
  "metadata": {
    "colab": {
      "collapsed_sections": [],
      "name": "fcc_predict_health_costs_with_regression.ipynb",
      "private_outputs": true,
      "provenance": []
    },
    "kernelspec": {
      "display_name": "Python 3",
      "name": "python3"
    }
  },
  "nbformat": 4,
  "nbformat_minor": 0
}